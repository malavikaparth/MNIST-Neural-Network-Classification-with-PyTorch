{
  "nbformat": 4,
  "nbformat_minor": 0,
  "metadata": {
    "colab": {
      "provenance": []
    },
    "kernelspec": {
      "name": "python3",
      "display_name": "Python 3"
    },
    "language_info": {
      "name": "python"
    }
  },
  "cells": [
    {
      "cell_type": "code",
      "execution_count": 66,
      "metadata": {
        "id": "rq_gdrIqdhUP"
      },
      "outputs": [],
      "source": [
        "import torch\n",
        "import torch.nn as nn\n",
        "import torchvision\n",
        "import torchvision.transforms as transforms\n",
        "import matplotlib.pyplot as plt\n",
        "import numpy as np\n",
        "import pandas as pd"
      ]
    },
    {
      "cell_type": "code",
      "source": [
        "input_size = 784 # 28x28\n",
        "hidden_size1 = 10\n",
        "num_classes = 10\n",
        "num_epochs = 2\n",
        "batch_size = 100\n",
        "learning_rate = 0.001"
      ],
      "metadata": {
        "id": "LlF0SApbdlFM"
      },
      "execution_count": 67,
      "outputs": []
    },
    {
      "cell_type": "code",
      "source": [
        "train_dataset = torchvision.datasets.MNIST(root='./data',\n",
        "                                            train=True,\n",
        "                                       transform=transforms.ToTensor(),\n",
        "                                           download=True)\n",
        "test_dataset = torchvision.datasets.MNIST(root='./data',\n",
        "                                           train=False,\n",
        "                                           transform=transforms.ToTensor(),\n",
        "                                           download=True)"
      ],
      "metadata": {
        "id": "ti12hNYxd1XO"
      },
      "execution_count": 68,
      "outputs": []
    },
    {
      "cell_type": "code",
      "source": [
        "train_loader = torch.utils.data.DataLoader(dataset=train_dataset,\n",
        "                                            batch_size=batch_size,\n",
        "                                            shuffle=True)\n",
        "test_loader = torch.utils.data.DataLoader(dataset=test_dataset,\n",
        "                                           batch_size=batch_size,\n",
        "                                           shuffle=False)"
      ],
      "metadata": {
        "id": "vJkEDkWTd6C8"
      },
      "execution_count": 69,
      "outputs": []
    },
    {
      "cell_type": "code",
      "source": [
        "# Fully connected neural network with one hidden layer\n",
        "class NeuralNet(nn.Module):\n",
        "     def __init__(self, input_size, hidden_size1, num_classes):\n",
        "         super(NeuralNet, self).__init__()\n",
        "         self.input_size = input_size\n",
        "         self.l1 = nn.Linear(input_size, hidden_size1)\n",
        "         self.relu1 = nn.ReLU()\n",
        "         self.l2 = nn.Linear(hidden_size1, num_classes)\n",
        "\n",
        "     def forward(self, x):\n",
        "         out = self.l1(x)\n",
        "         out = self.relu1(out)\n",
        "         out = self.l2(out)\n",
        "         # no activation and no softmax at the end\n",
        "         return out"
      ],
      "metadata": {
        "id": "qzHXlEqoeRoc"
      },
      "execution_count": 70,
      "outputs": []
    },
    {
      "cell_type": "code",
      "source": [],
      "metadata": {
        "id": "OctpweRGeaoh"
      },
      "execution_count": 70,
      "outputs": []
    },
    {
      "cell_type": "code",
      "source": [
        "model = NeuralNet(input_size, hidden_size1, num_classes)"
      ],
      "metadata": {
        "id": "LQykY6vweeCu"
      },
      "execution_count": 71,
      "outputs": []
    },
    {
      "cell_type": "code",
      "source": [
        " # Loss and optimizer\n",
        "criterion = nn.CrossEntropyLoss()\n",
        "optimizer = torch.optim.Adam(model.parameters(), lr=learning_rate)"
      ],
      "metadata": {
        "id": "mA1RmALSjxK6"
      },
      "execution_count": 72,
      "outputs": []
    },
    {
      "cell_type": "code",
      "source": [
        "n_total_steps = len(train_loader)\n",
        "for epoch in range(num_epochs):\n",
        "     for i, (images, labels) in enumerate(train_loader):\n",
        "         # origin shape: [100, 1, 28, 28]\n",
        "         # resized: [100, 784]\n",
        "         images = images.reshape(-1, 28*28)\n",
        "         labels = labels\n",
        "         # Forward pass\n",
        "         outputs = model(images)\n",
        "         loss = criterion(outputs, labels)\n",
        "         # Backward and optimize\n",
        "         optimizer.zero_grad()\n",
        "         loss.backward()\n",
        "         optimizer.step()\n",
        "         if (i+1) % 100 == 0:\n",
        "             print (f'Epoch [{epoch+1}/{num_epochs}], Step[{i+1}/{n_total_steps}], Loss: {loss.item():.4f}')"
      ],
      "metadata": {
        "colab": {
          "base_uri": "https://localhost:8080/"
        },
        "id": "g5kDAoeUj4B-",
        "outputId": "418340ae-5d11-4590-a403-96688fe1f391"
      },
      "execution_count": 73,
      "outputs": [
        {
          "output_type": "stream",
          "name": "stdout",
          "text": [
            "Epoch [1/2], Step[100/600], Loss: 1.1386\n",
            "Epoch [1/2], Step[200/600], Loss: 0.5976\n",
            "Epoch [1/2], Step[300/600], Loss: 0.4003\n",
            "Epoch [1/2], Step[400/600], Loss: 0.4029\n",
            "Epoch [1/2], Step[500/600], Loss: 0.5489\n",
            "Epoch [1/2], Step[600/600], Loss: 0.3716\n",
            "Epoch [2/2], Step[100/600], Loss: 0.3780\n",
            "Epoch [2/2], Step[200/600], Loss: 0.2818\n",
            "Epoch [2/2], Step[300/600], Loss: 0.3498\n",
            "Epoch [2/2], Step[400/600], Loss: 0.1942\n",
            "Epoch [2/2], Step[500/600], Loss: 0.4603\n",
            "Epoch [2/2], Step[600/600], Loss: 0.3955\n"
          ]
        }
      ]
    },
    {
      "cell_type": "code",
      "source": [
        "with torch.no_grad():\n",
        "     n_correct = 0\n",
        "     n_samples = 0\n",
        "     for images, labels in test_loader:\n",
        "         images = images.reshape(-1, 28*28)\n",
        "         labels = labels\n",
        "         outputs = model(images)\n",
        "         # max returns (value ,index)\n",
        "         _, predicted = torch.max(outputs.data, 1)\n",
        "         n_samples += labels.size(0)\n",
        "         n_correct += (predicted == labels).sum().item()\n",
        "     acc = 100.0 * n_correct / n_samples\n",
        "     print(f'Accuracy of the network on the 10000 test images: {acc} %')"
      ],
      "metadata": {
        "colab": {
          "base_uri": "https://localhost:8080/"
        },
        "id": "hOM9gh6WkFar",
        "outputId": "95d8ae20-366c-43e2-d077-35587a28cc18"
      },
      "execution_count": 74,
      "outputs": [
        {
          "output_type": "stream",
          "name": "stdout",
          "text": [
            "Accuracy of the network on the 10000 test images: 91.77 %\n"
          ]
        }
      ]
    }
  ]
}